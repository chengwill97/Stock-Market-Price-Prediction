{
 "cells": [
  {
   "cell_type": "code",
   "execution_count": 1,
   "metadata": {},
   "outputs": [
    {
     "data": {
      "text/html": [
       "<style>.container { width:100% !important; }</style>"
      ],
      "text/plain": [
       "<IPython.core.display.HTML object>"
      ]
     },
     "metadata": {},
     "output_type": "display_data"
    }
   ],
   "source": [
    "from IPython.core.display import display, HTML\n",
    "display(HTML(\"<style>.container { width:100% !important; }</style>\"))"
   ]
  },
  {
   "cell_type": "code",
   "execution_count": 9,
   "metadata": {},
   "outputs": [],
   "source": [
    "import pandas as pd"
   ]
  },
  {
   "cell_type": "code",
   "execution_count": 10,
   "metadata": {},
   "outputs": [],
   "source": [
    "articles_df = pd.DataFrame(columns=['title', 'publication', 'date', 'year', 'month', 'content'])"
   ]
  },
  {
   "cell_type": "code",
   "execution_count": 18,
   "metadata": {},
   "outputs": [
    {
     "name": "stderr",
     "output_type": "stream",
     "text": [
      "/home/willc97/miniconda2/envs/massive_data/lib/python3.6/site-packages/ipykernel_launcher.py:5: FutureWarning: Sorting because non-concatenation axis is not aligned. A future version\n",
      "of pandas will change to not sort by default.\n",
      "\n",
      "To accept the future behavior, pass 'sort=False'.\n",
      "\n",
      "To retain the current behavior and silence the warning, pass 'sort=True'.\n",
      "\n",
      "  \"\"\"\n"
     ]
    }
   ],
   "source": [
    "for name in  ['articles1.csv', 'articles1.csv', 'articles1.csv']:\n",
    "    temp_df = pd.read_csv('data/raw/all-the-news/{article_name}'.format(article_name=name))\n",
    "    temp_df = temp_df[['title', 'publication', 'date', 'year', 'month', 'content']]\n",
    "    temp_df = temp_df.where((temp_df.year == 2015.0) | (temp_df.year == 2016.0) | (temp_df.year == 2017.0)).dropna()\n",
    "    articles_df = pd.concat([articles_df, temp_df])"
   ]
  },
  {
   "cell_type": "code",
   "execution_count": 19,
   "metadata": {},
   "outputs": [],
   "source": [
    "articles_df = articles_df[['title', 'publication', 'date', 'year', 'month', 'content']]"
   ]
  },
  {
   "cell_type": "code",
   "execution_count": 20,
   "metadata": {},
   "outputs": [],
   "source": [
    "articles_df['day'] = articles_df.apply(lambda row: float(row.date[-2:]), axis=1)"
   ]
  },
  {
   "cell_type": "code",
   "execution_count": 27,
   "metadata": {},
   "outputs": [
    {
     "name": "stdout",
     "output_type": "stream",
     "text": [
      "Saved data/filtered/all-the-news/articles_2015_01.csv with 464 number of articles\n",
      "Saved data/filtered/all-the-news/articles_2015_02.csv with 280 number of articles\n",
      "Saved data/filtered/all-the-news/articles_2015_03.csv with 490 number of articles\n",
      "Saved data/filtered/all-the-news/articles_2015_04.csv with 483 number of articles\n",
      "Saved data/filtered/all-the-news/articles_2015_05.csv with 454 number of articles\n",
      "Saved data/filtered/all-the-news/articles_2015_06.csv with 677 number of articles\n",
      "Saved data/filtered/all-the-news/articles_2015_07.csv with 356 number of articles\n",
      "Saved data/filtered/all-the-news/articles_2015_08.csv with 45 number of articles\n",
      "Saved data/filtered/all-the-news/articles_2015_09.csv with 2 number of articles\n",
      "Saved data/filtered/all-the-news/articles_2015_10.csv with 1 number of articles\n",
      "Saved data/filtered/all-the-news/articles_2015_11.csv with 4 number of articles\n",
      "Saved data/filtered/all-the-news/articles_2015_12.csv with 70 number of articles\n",
      "Saved data/filtered/all-the-news/articles_2016_01.csv with 1766 number of articles\n",
      "Saved data/filtered/all-the-news/articles_2016_02.csv with 1706 number of articles\n",
      "Saved data/filtered/all-the-news/articles_2016_03.csv with 1829 number of articles\n",
      "Saved data/filtered/all-the-news/articles_2016_04.csv with 1920 number of articles\n",
      "Saved data/filtered/all-the-news/articles_2016_05.csv with 1822 number of articles\n",
      "Saved data/filtered/all-the-news/articles_2016_06.csv with 2596 number of articles\n",
      "Saved data/filtered/all-the-news/articles_2016_07.csv with 2813 number of articles\n",
      "Saved data/filtered/all-the-news/articles_2016_08.csv with 3058 number of articles\n",
      "Saved data/filtered/all-the-news/articles_2016_09.csv with 2963 number of articles\n",
      "Saved data/filtered/all-the-news/articles_2016_10.csv with 2501 number of articles\n",
      "Saved data/filtered/all-the-news/articles_2016_11.csv with 2591 number of articles\n",
      "Saved data/filtered/all-the-news/articles_2016_12.csv with 2886 number of articles\n",
      "Saved data/filtered/all-the-news/articles_2017_01.csv with 3655 number of articles\n",
      "Saved data/filtered/all-the-news/articles_2017_02.csv with 3227 number of articles\n",
      "Saved data/filtered/all-the-news/articles_2017_03.csv with 3414 number of articles\n",
      "Saved data/filtered/all-the-news/articles_2017_04.csv with 3416 number of articles\n",
      "Saved data/filtered/all-the-news/articles_2017_05.csv with 2539 number of articles\n",
      "Saved data/filtered/all-the-news/articles_2017_06.csv with 1657 number of articles\n"
     ]
    }
   ],
   "source": [
    "for year in range(2015, 2017+1):\n",
    "    for month in range(1, 12+1):\n",
    "        file_name = 'data/filtered/all-the-news/articles_{year}_{month:02}.csv'.format(year=year, month=month)\n",
    "        temp_df = articles_df.where((articles_df.year == year) & (articles_df.month == month)).dropna().drop_duplicates(subset=['title'])\n",
    "        if len(temp_df) != 0:\n",
    "            temp_df.to_csv(file_name, index=False)\n",
    "            print('Saved {file_name} with {num_articles} number of articles'.format(file_name=file_name, num_articles=len(temp_df)))"
   ]
  },
  {
   "cell_type": "code",
   "execution_count": 1,
   "metadata": {},
   "outputs": [
    {
     "name": "stdout",
     "output_type": "stream",
     "text": [
      "hello world\n"
     ]
    }
   ],
   "source": [
    "import time\n",
    "time.sleep(10)\n",
    "print('hello world!')"
   ]
  },
  {
   "cell_type": "code",
   "execution_count": null,
   "metadata": {},
   "outputs": [],
   "source": []
  }
 ],
 "metadata": {
  "kernelspec": {
   "display_name": "Python 3",
   "language": "python",
   "name": "python3"
  },
  "language_info": {
   "codemirror_mode": {
    "name": "ipython",
    "version": 3
   },
   "file_extension": ".py",
   "mimetype": "text/x-python",
   "name": "python",
   "nbconvert_exporter": "python",
   "pygments_lexer": "ipython3",
   "version": "3.6.7"
  }
 },
 "nbformat": 4,
 "nbformat_minor": 2
}
