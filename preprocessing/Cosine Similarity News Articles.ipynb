{
 "cells": [
  {
   "cell_type": "code",
   "execution_count": 1,
   "metadata": {},
   "outputs": [
    {
     "data": {
      "text/html": [
       "<style>.container { width:100% !important; }</style>"
      ],
      "text/plain": [
       "<IPython.core.display.HTML object>"
      ]
     },
     "metadata": {},
     "output_type": "display_data"
    }
   ],
   "source": [
    "from IPython.core.display import display, HTML\n",
    "display(HTML(\"<style>.container { width:100% !important; }</style>\"))"
   ]
  },
  {
   "cell_type": "markdown",
   "metadata": {},
   "source": [
    "### Input Data Format"
   ]
  },
  {
   "cell_type": "markdown",
   "metadata": {},
   "source": [
    "{\n",
    "  'year': 2016.0,\n",
    "  'month': 1.0,\n",
    "  'data': [{\n",
    "        'title': 'EXAMPLE TITLE',\n",
    "        'year': 2016.0,\n",
    "        'month': 1.0,\n",
    "        'day': 20.0,\n",
    "        'tfidf': [['word1', 0.051231], ['word2', 0.031231]],\n",
    "        'polarity': 0.1231241, \n",
    "        'subjectivity': 0.1241231\n",
    "      }]\n",
    "}"
   ]
  },
  {
   "cell_type": "code",
   "execution_count": 2,
   "metadata": {},
   "outputs": [],
   "source": [
    "import os\n",
    "import math\n",
    "import json\n",
    "import pandas as pd\n",
    "import pyspark\n",
    "import pyspark\n",
    "from cosine_similarity import CosineSimilarity\n",
    "from pyspark import SparkContext\n",
    "from glob import glob\n",
    "import json\n",
    "import nltk"
   ]
  },
  {
   "cell_type": "code",
   "execution_count": 10,
   "metadata": {},
   "outputs": [
    {
     "name": "stdout",
     "output_type": "stream",
     "text": [
      "\u001b[0m\u001b[01;34mdim50_1\u001b[0m/  \u001b[01;31mdim50_1.tar.gz\u001b[0m  \u001b[01;34mdim50_2\u001b[0m/\r\n"
     ]
    }
   ],
   "source": [
    "%ls data/cosineSimilarity/all-the-news/"
   ]
  },
  {
   "cell_type": "code",
   "execution_count": 19,
   "metadata": {},
   "outputs": [],
   "source": [
    "input_folder = 'data/tfidf/all-the-news/'\n",
    "output_folder = 'data/cosineSimilarity/all-the-news/dim50_2'\n",
    "dim = 50\n",
    "vector_model_path = 'glove.6B/glove.6B.{dim}d.txt'.format(dim=dim)\n",
    "\n",
    "try:\n",
    "    os.mkdirs(input_folder, exist_ok=True)\n",
    "except:\n",
    "    pass\n",
    "\n",
    "try:\n",
    "    os.mkdir(output_folder)\n",
    "except:\n",
    "    pass\n",
    "\n",
    "articles_names = glob(os.path.join(input_folder, 'articles_2016*'))"
   ]
  },
  {
   "cell_type": "code",
   "execution_count": 20,
   "metadata": {},
   "outputs": [],
   "source": [
    "# tokens, cos_sim, input_folder, output_folder, articles_name = args\n",
    "tokens = ['technology','phone','internet','security','online','economy']\n",
    "cos_sim = CosineSimilarity(dim, glove_path=vector_model_path)"
   ]
  },
  {
   "cell_type": "code",
   "execution_count": 21,
   "metadata": {},
   "outputs": [],
   "source": [
    "arguments = [(tokens, cos_sim, input_folder, \n",
    "              output_folder, os.path.basename(articles_name)) for articles_name in articles_names]"
   ]
  },
  {
   "cell_type": "code",
   "execution_count": 22,
   "metadata": {},
   "outputs": [],
   "source": [
    "def cosine_similarity_news_articles(args):\n",
    "    tokens, cos_sim, input_folder, output_folder, articles_name = args\n",
    "\n",
    "    articles_path = os.path.join(input_folder, articles_name)\n",
    "    output_path = os.path.join(output_folder, articles_name.replace('.json', '.csv'))\n",
    "\n",
    "    print('Analyzing {}'.format(articles_path))\n",
    "\n",
    "    month_df = pd.DataFrame(columns=['date', 'year', 'month',\n",
    "                                     'day', 'title',\n",
    "                                     'polarity', 'subjectivity',\n",
    "                                     'relatedness_title',\n",
    "                                     'relatedness_content'])\n",
    "\n",
    "    with open(articles_path) as f:\n",
    "        try:\n",
    "            month = json.load(f)\n",
    "            month['data'].sort(key=lambda datum: datum['day'])\n",
    "        except Exception:\n",
    "            month_df.to_csv(output_path, index=False)\n",
    "            print('Error in from {}'.format(articles_path))\n",
    "            return\n",
    "\n",
    "    vector_compare = cos_sim.sentence_to_vec(tokens)\n",
    "\n",
    "    for data in month['data']:\n",
    "\n",
    "        # Get list of tokens for tdidf and title\n",
    "        tokens_tdidf = [tdidfs[0] for tdidfs in data['tdidf']]\n",
    "        tokens_title = nltk.word_tokenize(data['title'])\n",
    "\n",
    "        try:\n",
    "            vector_tdidf = cos_sim.sentence_to_vec(tokens_tdidf)\n",
    "            cos_title = cos_sim.cosine(vector_tdidf, vector_compare)\n",
    "        except Exception:\n",
    "            cos_title = 0.0\n",
    "\n",
    "        try:\n",
    "            vector_title = cos_sim.sentence_to_vec(tokens_title)\n",
    "            cos_tdidf = cos_sim.cosine(vector_title, vector_compare)\n",
    "        except Exception:\n",
    "            cos_tdidf = 0.0\n",
    "\n",
    "        day_data = {\n",
    "            'date'                : ['{Y}-{M:02}-{D:02}'.format(Y=int(data['year']), M=int(data['month']), D=int(data['day']))],\n",
    "            'year'                : [data['year']],\n",
    "            'month'               : [data['month']],\n",
    "            'day'                 : [data['day']],\n",
    "            'title'               : [data['title']],\n",
    "            'subjectivity'        : [data['subjectivity']],\n",
    "            'polarity'            : [data['polarity']],\n",
    "            'relatedness_title'   : [cos_title],\n",
    "            'relatedness_content' : [cos_tdidf]\n",
    "        }\n",
    "        day_df = pd.DataFrame.from_dict(day_data)\n",
    "        month_df = month_df.append(day_df)\n",
    "\n",
    "    month_df = month_df.reset_index(drop=True)\n",
    "    month_df.to_csv(output_path, index=False)\n",
    "\n",
    "    print('Finished analyzing {} with {} results'.format(articles_path, len(month_df)))\n",
    "    print(output_path)\n",
    "    return"
   ]
  },
  {
   "cell_type": "code",
   "execution_count": 2,
   "metadata": {},
   "outputs": [
    {
     "name": "stdout",
     "output_type": "stream",
     "text": [
      "Starting analysis\n",
      "Finished analysis\n"
     ]
    }
   ],
   "source": [
    "print('Starting analysis')\n",
    "sc = pyspark.SparkContext(appName='News Articles')\n",
    "process_cosine_by_month = sc.parallelize(arguments, len(arguments)).map(cosine_similarity_news_articles)\n",
    "collect_cosine_by_month = process_cosine_by_month.collect()\n",
    "sc.stop()\n",
    "print('Finished analysis')"
   ]
  }
 ],
 "metadata": {
  "kernelspec": {
   "display_name": "Python 3",
   "language": "python",
   "name": "python3"
  },
  "language_info": {
   "codemirror_mode": {
    "name": "ipython",
    "version": 3
   },
   "file_extension": ".py",
   "mimetype": "text/x-python",
   "name": "python",
   "nbconvert_exporter": "python",
   "pygments_lexer": "ipython3",
   "version": "3.6.7"
  }
 },
 "nbformat": 4,
 "nbformat_minor": 2
}
